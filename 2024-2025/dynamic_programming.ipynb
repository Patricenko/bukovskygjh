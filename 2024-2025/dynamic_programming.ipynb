{
 "cells": [
  {
   "cell_type": "code",
   "execution_count": 7,
   "id": "initial_id",
   "metadata": {
    "collapsed": true,
    "ExecuteTime": {
     "end_time": "2024-10-27T19:30:23.894578600Z",
     "start_time": "2024-10-27T19:30:23.891258400Z"
    }
   },
   "outputs": [],
   "source": [
    "def fibonacci_bottom_up(n):\n",
    "    if n <= 2:\n",
    "        return n\n",
    "    fib_table = [0] * (n + 1)\n",
    "    fib_table[1] = 1\n",
    "    for i in range(2, n + 1):\n",
    "        fib_table[i] = fib_table[i - 1] + fib_table[i - 2]\n",
    "    return fib_table[n]\n",
    "fibonacci_bottom_up(6)"
   ]
  },
  {
   "cell_type": "code",
   "execution_count": 9,
   "outputs": [
    {
     "data": {
      "text/plain": "8"
     },
     "execution_count": 9,
     "metadata": {},
     "output_type": "execute_result"
    }
   ],
   "source": [
    "def fibonacci_bottom_up_space_optimized(n):\n",
    "    if n <= 2:\n",
    "        return n\n",
    "    a, b = 0, 1\n",
    "    for i in range(2, n + 1):\n",
    "        a, b = b, a + b\n",
    "    return b\n",
    "fibonacci_bottom_up_space_optimized(6)"
   ],
   "metadata": {
    "collapsed": false,
    "ExecuteTime": {
     "end_time": "2024-10-27T19:31:44.448358500Z",
     "start_time": "2024-10-27T19:31:44.440062400Z"
    }
   },
   "id": "cc82c1a2b06123d9"
  },
  {
   "cell_type": "code",
   "execution_count": null,
   "outputs": [],
   "source": [
    "def fibonacci_memoization(n, memo):\n",
    "    if n in memo:\n",
    "        return memo[n]\n",
    "    if n <= 2:\n",
    "        return n\n",
    "    memo[n] = fibonacci_memoization(n - 1, memo) + fibonacci_memoization(n - 2, memo)\n",
    "    return memo[n]\n",
    "fibonacci_memoization(6, {})"
   ],
   "metadata": {
    "collapsed": false
   },
   "id": "73aedfd07163e77b"
  }
 ],
 "metadata": {
  "kernelspec": {
   "display_name": "Python 3",
   "language": "python",
   "name": "python3"
  },
  "language_info": {
   "codemirror_mode": {
    "name": "ipython",
    "version": 2
   },
   "file_extension": ".py",
   "mimetype": "text/x-python",
   "name": "python",
   "nbconvert_exporter": "python",
   "pygments_lexer": "ipython2",
   "version": "2.7.6"
  }
 },
 "nbformat": 4,
 "nbformat_minor": 5
}
